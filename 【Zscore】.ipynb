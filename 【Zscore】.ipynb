{
 "cells": [
  {
   "cell_type": "markdown",
   "metadata": {},
   "source": [
    "# 函数加载"
   ]
  },
  {
   "cell_type": "code",
   "execution_count": 29,
   "metadata": {},
   "outputs": [],
   "source": [
    "# ################################################\n",
    "# 重采样\n",
    "def resample_image(itk_image, out_spacing=[1, 1, 1]):\n",
    "    original_spacing = itk_image.GetSpacing()\n",
    "    original_size = itk_image.GetSize()\n",
    " \n",
    "    # 根据输出out_spacing设置新的size\n",
    "    out_size = [\n",
    "        int(np.round(original_size[0] * original_spacing[0] / out_spacing[0])),\n",
    "        int(np.round(original_size[1] * original_spacing[1] / out_spacing[1])),\n",
    "        int(np.round(original_size[2] * original_spacing[2] / out_spacing[2]))\n",
    "    ]\n",
    " \n",
    "    resample = sitk.ResampleImageFilter()\n",
    "    resample.SetOutputSpacing(out_spacing)\n",
    "    resample.SetSize(out_size)\n",
    "    resample.SetOutputDirection(itk_image.GetDirection())\n",
    "    resample.SetOutputOrigin(itk_image.GetOrigin())\n",
    "    resample.SetTransform(sitk.Transform())\n",
    "    resample.SetDefaultPixelValue(itk_image.GetPixelIDValue())\n",
    " \n",
    "    resample.SetInterpolator(sitk.sitkBSpline)\n",
    " \n",
    "    return resample.Execute(itk_image)\n",
    "\n",
    "def resample_image_execute(input_image, output_image):\n",
    "    \n",
    "    # 使用sitk读取对应的数据\n",
    "    original_img = sitk.ReadImage(input_image)\n",
    "    print('原始图像的Spacing：', original_img.GetSpacing())\n",
    "    print('原始图像的Size：', original_img.GetSize())\n",
    "\n",
    "    # 对数据进行重采样\n",
    "    resample_img = resample_image(original_img)\n",
    "    print('经过resample之后图像的Spacing是：', resample_img.GetSpacing())\n",
    "    print('经过resample之后图像的Size是：', resample_img.GetSize())\n",
    "    \n",
    "    sitk.WriteImage(resample_img, output_image)\n",
    "    \n",
    "\n",
    "\n",
    "\n",
    "# # ################################################\n",
    "# # N4偏置场矫正\n",
    "# # ################################################\n",
    "# def N4BiasFieldCorrection(imagePath,saveMaskOrNot):\n",
    "#     # 读nifty\n",
    "#     input_image = sitk.ReadImage(imagePath)\n",
    "#     # 设置蒙版，只对蒙版内的部分操作\n",
    "#     mask_image = sitk.OtsuThreshold(input_image,0,1,200)\n",
    "#     input_image = sitk.Cast(input_image, sitk.sitkFloat32)\n",
    "#     # 主运行\n",
    "#     corrector = sitk.N4BiasFieldCorrectionImageFilter()\n",
    "#     output_image = corrector.Execute(input_image,mask_image)\n",
    "#     output_image = sitk.Cast(output_image, sitk.sitkInt16)\n",
    "    \n",
    "#     # 设置导出文件名\n",
    "#     output_path = ''\n",
    "#     output_mask_path=''\n",
    "#     if imagePath[-7:]=='.nii.gz':\n",
    "#         output_path = imagePath[:-7]+'_N4.nii.gz'\n",
    "#         output_mask_path = imagePath[:-7]+'_N4_mask.nii.gz'\n",
    "#     elif imagePath[-4:]=='.nii':\n",
    "#         output_path = imagePath[:-4]+'_N4.nii.gz'\n",
    "#         output_mask_path = imagePath[:-4]+'_N4_mask.nii.gz'\n",
    "#     else:\n",
    "#         print('文件类型错误')\n",
    "        \n",
    "#     if saveMaskOrNot:\n",
    "#         sitk.WriteImage(mask_image, output_mask_path)\n",
    "#     sitk.WriteImage(output_image, output_path)\n",
    "        \n",
    "#     print(f'【N4 processed successfully】{imagePath}')\n",
    "    \n",
    "    \n",
    "# ################################################\n",
    "# 强度归一化\n",
    "def standardization(data):\n",
    "    mu = np.mean(data, axis=0)\n",
    "    sigma = np.std(data, axis=0)\n",
    "    return (data - mu) / sigma\n",
    "\n",
    "# 设置重要的元数据：origin、Direction、Spacing，并返回已经含它们了的SimpleITK格式数据，以便做保存NII等处理\n",
    "def setMetaMessage(target, origin):\n",
    "    target.SetDirection(origin.GetDirection())\n",
    "    target.SetOrigin(origin.GetOrigin())\n",
    "    target.SetSpacing(origin.GetSpacing())\n",
    "    return target\n",
    "\n",
    "# 主程序\n",
    "def signalStrengthNormalization(imagePath, outputPath):\n",
    "    # 查看原始的维度信息\n",
    "    sitk_img = sitk.ReadImage(imagePath)     # <class 'SimpleITK.SimpleITK.Image'>\n",
    "    img = sitk.GetArrayFromImage(sitk_img)       # <class 'numpy.ndarray'>\n",
    "    # print('原始维度：%s \\n体素大小：%s'%(str(img.shape),str(sitk_img.GetSpacing())))   # (92, 210, 190) (1.0, 1.0, 1.0)\n",
    "    \n",
    "    # 标准化\n",
    "    img_std = np.resize(standardization(img.flatten()),img.shape)\n",
    "\n",
    "    # 变成原始的nifty维度\n",
    "    imgData_Processed = sitk.GetImageFromArray(img_std)\n",
    "    imgData_Processed = setMetaMessage(imgData_Processed, sitk_img)\n",
    "\n",
    "    sitk.WriteImage(imgData_Processed, outputPath)\n",
    "    print(f'【Normalization processed successfully】{imagePath}')"
   ]
  },
  {
   "cell_type": "code",
   "execution_count": 6,
   "metadata": {},
   "outputs": [],
   "source": [
    "# # 处理一个看看\n",
    "# imagePath = r't2flair.nii.gz'\n",
    "# N4BiasFieldCorrection(imagePath,True)\n",
    "\n",
    "# imagePath = r\"t2flair.nii.gz\"\n",
    "# signalStrengthNormalization(imagePath)"
   ]
  },
  {
   "cell_type": "markdown",
   "metadata": {},
   "source": [
    "# 正式处理"
   ]
  },
  {
   "cell_type": "code",
   "execution_count": 23,
   "metadata": {},
   "outputs": [],
   "source": [
    "import SimpleITK as sitk\n",
    "from my_MRI_tool_kit import  DirectoryReader_dict\n",
    "import numpy as np\n",
    "import os"
   ]
  },
  {
   "cell_type": "code",
   "execution_count": 24,
   "metadata": {},
   "outputs": [
    {
     "name": "stdout",
     "output_type": "stream",
     "text": [
      "共找到1个文件夹\n"
     ]
    },
    {
     "data": {
      "text/plain": [
       "{'C:\\\\Users\\\\Administrator\\\\Desktop\\\\20230808': ['1.【配准】重采样后互相刚体配准.ipynb',\n",
       "  '2.【配准】Syn配准.ipynb',\n",
       "  '3.【剥颅骨】应用BrainMask.ipynb',\n",
       "  '4.【N4bias】.ipynb',\n",
       "  '5【特征提取】.ipynb',\n",
       "  'ce.nii.gz',\n",
       "  'my_MRI_tool_kit.py',\n",
       "  't1.nii.gz',\n",
       "  't2.nii.gz',\n",
       "  '__seg.nii.gz',\n",
       "  '________b_regd_rsmp_ADCm.nii.gz',\n",
       "  '________ws_b_regd_rsmp_fDWI_2.nii.gz',\n",
       "  '__________CDK1m_seg.nii.gz',\n",
       "  '【Zscore】.ipynb',\n",
       "  '图像重采样.ipynb']}"
      ]
     },
     "execution_count": 24,
     "metadata": {},
     "output_type": "execute_result"
    }
   ],
   "source": [
    "# 找到对应文件夹里所有文件\n",
    "root_path = r\"C:\\Users\\Administrator\\Desktop\\20230808\"\n",
    "max_depth = 1\n",
    "directory_reader = DirectoryReader_dict(root_path, max_depth)\n",
    "directories = directory_reader.get_files_dict()\n",
    "print(f'共找到{len(directories)}个文件夹')\n",
    "\n",
    "directories"
   ]
  },
  {
   "cell_type": "markdown",
   "metadata": {},
   "source": [
    "# 重采样"
   ]
  },
  {
   "cell_type": "code",
   "execution_count": 26,
   "metadata": {},
   "outputs": [
    {
     "data": {
      "text/plain": [
       "{'C:\\\\Users\\\\Administrator\\\\Desktop\\\\20230808': ['ce.nii.gz',\n",
       "  't1.nii.gz',\n",
       "  't2.nii.gz']}"
      ]
     },
     "execution_count": 26,
     "metadata": {},
     "output_type": "execute_result"
    }
   ],
   "source": [
    "aim_directories = {}\n",
    "for key, value in directories.items():\n",
    "    pattern =['ce.nii.gz','t1.nii.gz','t2.nii.gz']\n",
    "    collection = []\n",
    "    for i in value:\n",
    "        if i in pattern:\n",
    "            collection.append(i)\n",
    "    aim_directories.update({key:collection})\n",
    "    \n",
    "aim_directories"
   ]
  },
  {
   "cell_type": "code",
   "execution_count": 32,
   "metadata": {},
   "outputs": [
    {
     "name": "stdout",
     "output_type": "stream",
     "text": [
      "##############################\n",
      "C:\\Users\\Administrator\\Desktop\\20230808\\ce.nii.gz\n",
      "原始图像的Spacing： (0.8125, 0.8125, 4.400000095367432)\n",
      "原始图像的Size： (320, 320, 10)\n",
      "经过resample之后图像的Spacing是： (1.0, 1.0, 1.0)\n",
      "经过resample之后图像的Size是： (260, 260, 44)\n",
      "【Normalization processed successfully】C:\\Users\\Administrator\\Desktop\\20230808\\_rsmp_ce.nii.gz\n",
      "##############################\n",
      "C:\\Users\\Administrator\\Desktop\\20230808\\t1.nii.gz\n",
      "原始图像的Spacing： (0.8125, 0.8125, 4.400000095367432)\n",
      "原始图像的Size： (320, 320, 10)\n",
      "经过resample之后图像的Spacing是： (1.0, 1.0, 1.0)\n",
      "经过resample之后图像的Size是： (260, 260, 44)\n",
      "【Normalization processed successfully】C:\\Users\\Administrator\\Desktop\\20230808\\_rsmp_t1.nii.gz\n",
      "##############################\n",
      "C:\\Users\\Administrator\\Desktop\\20230808\\t2.nii.gz\n",
      "原始图像的Spacing： (0.8125, 0.8125, 4.400000095367432)\n",
      "原始图像的Size： (320, 320, 10)\n",
      "经过resample之后图像的Spacing是： (1.0, 1.0, 1.0)\n",
      "经过resample之后图像的Size是： (260, 260, 44)\n",
      "【Normalization processed successfully】C:\\Users\\Administrator\\Desktop\\20230808\\_rsmp_t2.nii.gz\n"
     ]
    }
   ],
   "source": [
    "for key, value in aim_directories.items():\n",
    "    for i in value:\n",
    "        full_path = os.path.join(key,i)\n",
    "        print(f\"{'#'*30}\")\n",
    "        print(full_path)\n",
    "        \n",
    "        rsmp_output = os.path.join(key,'_rsmp_'+i)\n",
    "        Zscore_output = os.path.join(key,'__Zscore_rsmp'+i)\n",
    "        \n",
    "        resample_image_execute(full_path, rsmp_output)\n",
    "        signalStrengthNormalization(rsmp_output, Zscore_output)\n",
    "        "
   ]
  },
  {
   "cell_type": "code",
   "execution_count": null,
   "metadata": {},
   "outputs": [],
   "source": []
  },
  {
   "cell_type": "code",
   "execution_count": null,
   "metadata": {},
   "outputs": [],
   "source": []
  }
 ],
 "metadata": {
  "kernelspec": {
   "display_name": "Python 3 (ipykernel)",
   "language": "python",
   "name": "python3"
  },
  "language_info": {
   "codemirror_mode": {
    "name": "ipython",
    "version": 3
   },
   "file_extension": ".py",
   "mimetype": "text/x-python",
   "name": "python",
   "nbconvert_exporter": "python",
   "pygments_lexer": "ipython3",
   "version": "3.9.7"
  }
 },
 "nbformat": 4,
 "nbformat_minor": 4
}
